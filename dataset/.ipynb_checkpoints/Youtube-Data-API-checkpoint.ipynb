{
 "cells": [
  {
   "cell_type": "code",
   "execution_count": 1,
   "id": "82fda8e6",
   "metadata": {},
   "outputs": [
    {
     "name": "stdout",
     "output_type": "stream",
     "text": [
      "Requirement already satisfied: google-api-python-client in c:\\users\\meetd\\anaconda3\\lib\\site-packages (2.14.0)\n",
      "Requirement already satisfied: google-auth<3.0.0dev,>=1.16.0 in c:\\users\\meetd\\anaconda3\\lib\\site-packages (from google-api-python-client) (1.33.1)\n",
      "Requirement already satisfied: uritemplate<4dev,>=3.0.0 in c:\\users\\meetd\\anaconda3\\lib\\site-packages (from google-api-python-client) (3.0.1)\n",
      "Requirement already satisfied: google-api-core<3.0.0dev,>=1.21.0 in c:\\users\\meetd\\anaconda3\\lib\\site-packages (from google-api-python-client) (1.31.0)\n",
      "Requirement already satisfied: httplib2<1dev,>=0.15.0 in c:\\users\\meetd\\anaconda3\\lib\\site-packages (from google-api-python-client) (0.19.1)\n",
      "Requirement already satisfied: six<2dev,>=1.13.0 in c:\\users\\meetd\\anaconda3\\lib\\site-packages (from google-api-python-client) (1.15.0)\n",
      "Requirement already satisfied: google-auth-httplib2>=0.1.0 in c:\\users\\meetd\\anaconda3\\lib\\site-packages (from google-api-python-client) (0.1.0)\n",
      "Requirement already satisfied: requests<3.0.0dev,>=2.18.0 in c:\\users\\meetd\\anaconda3\\lib\\site-packages (from google-api-core<3.0.0dev,>=1.21.0->google-api-python-client) (2.25.1)\n",
      "Requirement already satisfied: packaging>=14.3 in c:\\users\\meetd\\anaconda3\\lib\\site-packages (from google-api-core<3.0.0dev,>=1.21.0->google-api-python-client) (20.9)\n",
      "Requirement already satisfied: googleapis-common-protos<2.0dev,>=1.6.0 in c:\\users\\meetd\\anaconda3\\lib\\site-packages (from google-api-core<3.0.0dev,>=1.21.0->google-api-python-client) (1.53.0)\n",
      "Requirement already satisfied: pytz in c:\\users\\meetd\\anaconda3\\lib\\site-packages (from google-api-core<3.0.0dev,>=1.21.0->google-api-python-client) (2021.1)\n",
      "Requirement already satisfied: setuptools>=40.3.0 in c:\\users\\meetd\\anaconda3\\lib\\site-packages (from google-api-core<3.0.0dev,>=1.21.0->google-api-python-client) (52.0.0.post20210125)\n",
      "Requirement already satisfied: protobuf>=3.12.0 in c:\\users\\meetd\\anaconda3\\lib\\site-packages (from google-api-core<3.0.0dev,>=1.21.0->google-api-python-client) (3.14.0)\n",
      "Requirement already satisfied: rsa<5,>=3.1.4 in c:\\users\\meetd\\anaconda3\\lib\\site-packages (from google-auth<3.0.0dev,>=1.16.0->google-api-python-client) (4.7.2)\n",
      "Requirement already satisfied: pyasn1-modules>=0.2.1 in c:\\users\\meetd\\anaconda3\\lib\\site-packages (from google-auth<3.0.0dev,>=1.16.0->google-api-python-client) (0.2.8)\n",
      "Requirement already satisfied: cachetools<5.0,>=2.0.0 in c:\\users\\meetd\\anaconda3\\lib\\site-packages (from google-auth<3.0.0dev,>=1.16.0->google-api-python-client) (4.2.2)\n",
      "Requirement already satisfied: pyparsing<3,>=2.4.2 in c:\\users\\meetd\\anaconda3\\lib\\site-packages (from httplib2<1dev,>=0.15.0->google-api-python-client) (2.4.7)\n",
      "Requirement already satisfied: pyasn1<0.5.0,>=0.4.6 in c:\\users\\meetd\\anaconda3\\lib\\site-packages (from pyasn1-modules>=0.2.1->google-auth<3.0.0dev,>=1.16.0->google-api-python-client) (0.4.8)\n",
      "Requirement already satisfied: idna<3,>=2.5 in c:\\users\\meetd\\anaconda3\\lib\\site-packages (from requests<3.0.0dev,>=2.18.0->google-api-core<3.0.0dev,>=1.21.0->google-api-python-client) (2.10)\n",
      "Requirement already satisfied: urllib3<1.27,>=1.21.1 in c:\\users\\meetd\\anaconda3\\lib\\site-packages (from requests<3.0.0dev,>=2.18.0->google-api-core<3.0.0dev,>=1.21.0->google-api-python-client) (1.26.4)\n",
      "Requirement already satisfied: chardet<5,>=3.0.2 in c:\\users\\meetd\\anaconda3\\lib\\site-packages (from requests<3.0.0dev,>=2.18.0->google-api-core<3.0.0dev,>=1.21.0->google-api-python-client) (4.0.0)\n",
      "Requirement already satisfied: certifi>=2017.4.17 in c:\\users\\meetd\\anaconda3\\lib\\site-packages (from requests<3.0.0dev,>=2.18.0->google-api-core<3.0.0dev,>=1.21.0->google-api-python-client) (2021.5.30)\n"
     ]
    }
   ],
   "source": [
    "!pip install --upgrade google-api-python-client"
   ]
  },
  {
   "cell_type": "code",
   "execution_count": 2,
   "id": "ced20633",
   "metadata": {},
   "outputs": [
    {
     "name": "stdout",
     "output_type": "stream",
     "text": [
      "Requirement already satisfied: google-auth-oauthlib in c:\\users\\meetd\\anaconda3\\lib\\site-packages (0.4.4)\n",
      "Requirement already satisfied: google-auth-httplib2 in c:\\users\\meetd\\anaconda3\\lib\\site-packages (0.1.0)\n",
      "Requirement already satisfied: google-auth in c:\\users\\meetd\\anaconda3\\lib\\site-packages (from google-auth-httplib2) (1.33.1)\n",
      "Requirement already satisfied: httplib2>=0.15.0 in c:\\users\\meetd\\anaconda3\\lib\\site-packages (from google-auth-httplib2) (0.19.1)\n",
      "Requirement already satisfied: six in c:\\users\\meetd\\anaconda3\\lib\\site-packages (from google-auth-httplib2) (1.15.0)\n",
      "Requirement already satisfied: pyparsing<3,>=2.4.2 in c:\\users\\meetd\\anaconda3\\lib\\site-packages (from httplib2>=0.15.0->google-auth-httplib2) (2.4.7)\n",
      "Requirement already satisfied: requests-oauthlib>=0.7.0 in c:\\users\\meetd\\anaconda3\\lib\\site-packages (from google-auth-oauthlib) (1.3.0)\n",
      "Requirement already satisfied: setuptools>=40.3.0 in c:\\users\\meetd\\anaconda3\\lib\\site-packages (from google-auth->google-auth-httplib2) (52.0.0.post20210125)\n",
      "Requirement already satisfied: pyasn1-modules>=0.2.1 in c:\\users\\meetd\\anaconda3\\lib\\site-packages (from google-auth->google-auth-httplib2) (0.2.8)\n",
      "Requirement already satisfied: cachetools<5.0,>=2.0.0 in c:\\users\\meetd\\anaconda3\\lib\\site-packages (from google-auth->google-auth-httplib2) (4.2.2)\n",
      "Requirement already satisfied: rsa<5,>=3.1.4 in c:\\users\\meetd\\anaconda3\\lib\\site-packages (from google-auth->google-auth-httplib2) (4.7.2)\n",
      "Requirement already satisfied: pyasn1<0.5.0,>=0.4.6 in c:\\users\\meetd\\anaconda3\\lib\\site-packages (from pyasn1-modules>=0.2.1->google-auth->google-auth-httplib2) (0.4.8)\n",
      "Requirement already satisfied: requests>=2.0.0 in c:\\users\\meetd\\anaconda3\\lib\\site-packages (from requests-oauthlib>=0.7.0->google-auth-oauthlib) (2.25.1)\n",
      "Requirement already satisfied: oauthlib>=3.0.0 in c:\\users\\meetd\\anaconda3\\lib\\site-packages (from requests-oauthlib>=0.7.0->google-auth-oauthlib) (3.1.0)\n",
      "Requirement already satisfied: idna<3,>=2.5 in c:\\users\\meetd\\anaconda3\\lib\\site-packages (from requests>=2.0.0->requests-oauthlib>=0.7.0->google-auth-oauthlib) (2.10)\n",
      "Requirement already satisfied: urllib3<1.27,>=1.21.1 in c:\\users\\meetd\\anaconda3\\lib\\site-packages (from requests>=2.0.0->requests-oauthlib>=0.7.0->google-auth-oauthlib) (1.26.4)\n",
      "Requirement already satisfied: certifi>=2017.4.17 in c:\\users\\meetd\\anaconda3\\lib\\site-packages (from requests>=2.0.0->requests-oauthlib>=0.7.0->google-auth-oauthlib) (2021.5.30)\n",
      "Requirement already satisfied: chardet<5,>=3.0.2 in c:\\users\\meetd\\anaconda3\\lib\\site-packages (from requests>=2.0.0->requests-oauthlib>=0.7.0->google-auth-oauthlib) (4.0.0)\n"
     ]
    }
   ],
   "source": [
    "!pip install --upgrade google-auth-oauthlib google-auth-httplib2"
   ]
  },
  {
   "cell_type": "code",
   "execution_count": 4,
   "id": "51f1e310",
   "metadata": {},
   "outputs": [
    {
     "name": "stdout",
     "output_type": "stream",
     "text": [
      "Please visit this URL to authorize this application: https://accounts.google.com/o/oauth2/auth?response_type=code&client_id=680619423910-8io56hjf5h4pn4ha3rjh2acp9ak0ghmv.apps.googleusercontent.com&redirect_uri=urn%3Aietf%3Awg%3Aoauth%3A2.0%3Aoob&scope=https%3A%2F%2Fwww.googleapis.com%2Fauth%2Fyoutube+https%3A%2F%2Fwww.googleapis.com%2Fauth%2Fyoutube.force-ssl+https%3A%2F%2Fwww.googleapis.com%2Fauth%2Fyoutube.readonly+https%3A%2F%2Fwww.googleapis.com%2Fauth%2Fyoutubepartner&state=lPE8Nob7Tb3PdhVnhnWz04emk27Rvn&prompt=consent&access_type=offline\n",
      "Enter the authorization code: 4/1AX4XfWjc3nu-9AhZwNBI5hzv9YrzejhQuWg5-y4XkvEZVxCnRQZDEnO3aQY\n",
      "AU\n",
      "BR\n",
      "CA\n",
      "FR\n",
      "DE\n",
      "IN\n",
      "IT\n",
      "MX\n",
      "RU\n",
      "GB\n",
      "US\n"
     ]
    }
   ],
   "source": [
    "import os #OS lib\n",
    "import json #Parsing json response\n",
    "import google_auth_oauthlib.flow #This module provides integration with requests-oauthlib for running the OAuth 2.0 Authorization Flow and acquiring user credentials.\n",
    "import googleapiclient.discovery #A directory of supported APIs schemas based on JSON Schema, A machine-readable \"Discovery Document\" for each of the supported APIs\n",
    "import googleapiclient.errors #Error handling\n",
    "\n",
    "scopes = [\"https://www.googleapis.com/auth/youtube\", \n",
    "          \"https://www.googleapis.com/auth/youtube.force-ssl\",\n",
    "          \"https://www.googleapis.com/auth/youtube.readonly\",\n",
    "          \"https://www.googleapis.com/auth/youtubepartner\"] #Auth keys \n",
    "\n",
    "os.environ[\"OAUTHLIB_INSECURE_TRANSPORT\"] = \"1\" #Insecure mode\n",
    "\n",
    "api_service_name = \"youtube\" #API selection\n",
    "api_version = \"v3\"\n",
    "client_secrets_file = \"client_secret_680619423910-8io56hjf5h4pn4ha3rjh2acp9ak0ghmv.apps.googleusercontent.com.json\" #client api keys file\n",
    "\n",
    "# Get credentials and create an API client\n",
    "flow = google_auth_oauthlib.flow.InstalledAppFlow.from_client_secrets_file(client_secrets_file, scopes)\n",
    "credentials = flow.run_console() #get credentials\n",
    "youtube = googleapiclient.discovery.build(api_service_name, api_version, credentials=credentials) #Construct a Resource for interacting with an API.\n",
    "country_list = [\"AU\", \"BR\", \"CA\", \"FR\", \"DE\", \"IN\", \"IT\", \"MX\", \"RU\", \"GB\", \"US\"] #Different countries selected ISO 3166-1 alpha-2 country code\n",
    "for country in country_list:\n",
    "    print(country)\n",
    "    request = youtube.videos().list(\n",
    "        part=\"id, snippet, statistics, status, liveStreamingDetails, localizations, player, recordingDetails, topicDetails\", #Which data to extract\n",
    "        chart=\"mostPopular\", #sorting by most popular\n",
    "        maxResults=200, #max results 200, results per page = 50\n",
    "        regionCode=country #Region selection\n",
    "    )\n",
    "    response = request.execute() #Call api\n",
    "    output_json = json.dumps(response, indent = 2) #converts a Python object into a json string\n",
    "    out_file = open(country + \"_data.json\", \"w\") #Open file with write permission\n",
    "    out_file.write(output_json) #write to file\n",
    "    out_file.close() #close file"
   ]
  },
  {
   "cell_type": "code",
   "execution_count": 5,
   "id": "0c520239",
   "metadata": {},
   "outputs": [],
   "source": [
    "import csv\n",
    "import pandas as pd"
   ]
  },
  {
   "cell_type": "code",
   "execution_count": 45,
   "id": "ea7ad827",
   "metadata": {},
   "outputs": [],
   "source": [
    "for country in country_list:\n",
    "    dat = json.load(open(country + \"_data.json\"))\n",
    "    dat = pd.json_normalize(dat['items'])\n",
    "    dat.to_csv(country+\"_data.csv\") #Normalize json response and saving to csv"
   ]
  },
  {
   "cell_type": "code",
   "execution_count": null,
   "id": "d06b342e",
   "metadata": {},
   "outputs": [],
   "source": []
  }
 ],
 "metadata": {
  "kernelspec": {
   "display_name": "Python 3",
   "language": "python",
   "name": "python3"
  },
  "language_info": {
   "codemirror_mode": {
    "name": "ipython",
    "version": 3
   },
   "file_extension": ".py",
   "mimetype": "text/x-python",
   "name": "python",
   "nbconvert_exporter": "python",
   "pygments_lexer": "ipython3",
   "version": "3.9.5"
  }
 },
 "nbformat": 4,
 "nbformat_minor": 5
}
