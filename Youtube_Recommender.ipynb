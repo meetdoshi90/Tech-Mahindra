{
 "cells": [
  {
   "cell_type": "markdown",
   "id": "3920500d",
   "metadata": {},
   "source": [
    "## Recommender System Notebook ##"
   ]
  },
  {
   "cell_type": "markdown",
   "id": "e48e7849",
   "metadata": {},
   "source": [
    "The two most common types of recommender systems are Content-Based and Collaborative Filtering(CF)\n",
    "> Collaborative filtering produces recommendations based on knowledge of user's attitude to items. Two sub categories:\n",
    "\n",
    "    > Memory based\n",
    "    > Model based\n",
    "\n",
    "> Content based systems focus on the attributes of the items."
   ]
  },
  {
   "cell_type": "code",
   "execution_count": 1,
   "id": "d8e2060f",
   "metadata": {},
   "outputs": [
    {
     "name": "stdout",
     "output_type": "stream",
     "text": [
      "Requirement already satisfied: nltk in c:\\users\\meetd\\anaconda3\\lib\\site-packages (3.6.1)\n",
      "Requirement already satisfied: click in c:\\users\\meetd\\anaconda3\\lib\\site-packages (from nltk) (7.1.2)\n",
      "Requirement already satisfied: tqdm in c:\\users\\meetd\\anaconda3\\lib\\site-packages (from nltk) (4.59.0)\n",
      "Requirement already satisfied: regex in c:\\users\\meetd\\anaconda3\\lib\\site-packages (from nltk) (2021.4.4)\n",
      "Requirement already satisfied: joblib in c:\\users\\meetd\\anaconda3\\lib\\site-packages (from nltk) (1.0.1)\n"
     ]
    },
    {
     "name": "stderr",
     "output_type": "stream",
     "text": [
      "[nltk_data] Downloading package punkt to\n",
      "[nltk_data]     C:\\Users\\meetd\\AppData\\Roaming\\nltk_data...\n",
      "[nltk_data]   Package punkt is already up-to-date!\n"
     ]
    }
   ],
   "source": [
    "import numpy as np\n",
    "import pandas as pd\n",
    "import matplotlib.pyplot as plt\n",
    "#import tensorflow as tf\n",
    "import seaborn as sns\n",
    "%matplotlib inline\n",
    "import re\n",
    "!pip install nltk\n",
    "import nltk\n",
    "nltk.download('punkt')\n",
    "from nltk.stem import WordNetLemmatizer\n",
    "lemmatizer = WordNetLemmatizer()\n",
    "from nltk.stem import PorterStemmer\n",
    "ps = PorterStemmer()\n",
    "from nltk.corpus import stopwords\n",
    "from googletrans import Translator\n",
    "trans = Translator()"
   ]
  },
  {
   "cell_type": "code",
   "execution_count": 2,
   "id": "eda92152",
   "metadata": {},
   "outputs": [],
   "source": [
    "country_list = [\"AU\", \"BR\", \"CA\", \"FR\", \"DE\", \"IN\", \"IT\", \"MX\", \"RU\", \"GB\", \"US\"]\n",
    "data = pd.DataFrame()\n",
    "column_names = ['Publish-Time','Title','Description','Video-URL','Thumbnail',\n",
    "                'Channel-Name','Localized-Title','Localized-Description',\n",
    "                'Upload-Status','Privacy','License','Embeddable-Status',\n",
    "                'Public-Stats','Made-For-Kids','View-Count','Likes','Dislikes',\n",
    "                'Embed-HTML']\n",
    "for country in country_list:\n",
    "    temp_data = pd.read_csv('C:/Users/meetd/OneDrive/Desktop/Tech-Mahindra-ML/dataset/Cleaned_Data/'+country+'_data.csv',\n",
    "                      names=column_names)\n",
    "    temp_data = temp_data.drop(0)\n",
    "    temp_data['Country'] = country\n",
    "    data = data.append(temp_data)"
   ]
  },
  {
   "cell_type": "code",
   "execution_count": 3,
   "id": "2e1b46f3",
   "metadata": {},
   "outputs": [
    {
     "data": {
      "text/html": [
       "<div>\n",
       "<style scoped>\n",
       "    .dataframe tbody tr th:only-of-type {\n",
       "        vertical-align: middle;\n",
       "    }\n",
       "\n",
       "    .dataframe tbody tr th {\n",
       "        vertical-align: top;\n",
       "    }\n",
       "\n",
       "    .dataframe thead th {\n",
       "        text-align: right;\n",
       "    }\n",
       "</style>\n",
       "<table border=\"1\" class=\"dataframe\">\n",
       "  <thead>\n",
       "    <tr style=\"text-align: right;\">\n",
       "      <th></th>\n",
       "      <th>Publish-Time</th>\n",
       "      <th>Title</th>\n",
       "      <th>Description</th>\n",
       "      <th>Video-URL</th>\n",
       "      <th>Thumbnail</th>\n",
       "      <th>Channel-Name</th>\n",
       "      <th>Localized-Title</th>\n",
       "      <th>Localized-Description</th>\n",
       "      <th>Upload-Status</th>\n",
       "      <th>Privacy</th>\n",
       "      <th>License</th>\n",
       "      <th>Embeddable-Status</th>\n",
       "      <th>Public-Stats</th>\n",
       "      <th>Made-For-Kids</th>\n",
       "      <th>View-Count</th>\n",
       "      <th>Likes</th>\n",
       "      <th>Dislikes</th>\n",
       "      <th>Embed-HTML</th>\n",
       "      <th>Country</th>\n",
       "    </tr>\n",
       "  </thead>\n",
       "  <tbody>\n",
       "    <tr>\n",
       "      <th>1</th>\n",
       "      <td>2021-07-21T18:00:06Z</td>\n",
       "      <td>I FILLED MY ISLAND HOUSE WITH PACKING PEANUTS!</td>\n",
       "      <td>CHECK OUT CHASECRAFT on iOS :: https://apps.ap...</td>\n",
       "      <td>https://i.ytimg.com/vi/Y3sj_v62dpc/default.jpg</td>\n",
       "      <td>https://i.ytimg.com/vi/Y3sj_v62dpc/mqdefault.jpg</td>\n",
       "      <td>Unspeakable</td>\n",
       "      <td>I FILLED MY ISLAND HOUSE WITH PACKING PEANUTS!</td>\n",
       "      <td>CHECK OUT CHASECRAFT on iOS :: https://apps.ap...</td>\n",
       "      <td>processed</td>\n",
       "      <td>public</td>\n",
       "      <td>youtube</td>\n",
       "      <td>True</td>\n",
       "      <td>False</td>\n",
       "      <td>False</td>\n",
       "      <td>3945994</td>\n",
       "      <td>101089</td>\n",
       "      <td>3084</td>\n",
       "      <td>&lt;iframe width=\"480\" height=\"270\" src=\"//www.yo...</td>\n",
       "      <td>AU</td>\n",
       "    </tr>\n",
       "    <tr>\n",
       "      <th>2</th>\n",
       "      <td>2021-07-21T21:41:14Z</td>\n",
       "      <td>Best Sand Art Wins $5,000 Challenge! | ZHC Crafts</td>\n",
       "      <td>I can't believe we made art out of sand\\nSubsc...</td>\n",
       "      <td>https://i.ytimg.com/vi/aVxHSHzm4kE/default.jpg</td>\n",
       "      <td>https://i.ytimg.com/vi/aVxHSHzm4kE/mqdefault.jpg</td>\n",
       "      <td>ZHC Crafts</td>\n",
       "      <td>Best Sand Art Wins $5,000 Challenge! | ZHC Crafts</td>\n",
       "      <td>I can't believe we made art out of sand\\nSubsc...</td>\n",
       "      <td>processed</td>\n",
       "      <td>public</td>\n",
       "      <td>youtube</td>\n",
       "      <td>True</td>\n",
       "      <td>True</td>\n",
       "      <td>False</td>\n",
       "      <td>2204582</td>\n",
       "      <td>89100</td>\n",
       "      <td>1375</td>\n",
       "      <td>&lt;iframe width=\"480\" height=\"270\" src=\"//www.yo...</td>\n",
       "      <td>AU</td>\n",
       "    </tr>\n",
       "    <tr>\n",
       "      <th>3</th>\n",
       "      <td>2021-07-22T13:00:04Z</td>\n",
       "      <td>Dune | Official Main Trailer</td>\n",
       "      <td>IT’S TIME. #DuneMovie coming October 22.\\n\\n--...</td>\n",
       "      <td>https://i.ytimg.com/vi/8g18jFHCLXk/default.jpg</td>\n",
       "      <td>https://i.ytimg.com/vi/8g18jFHCLXk/mqdefault.jpg</td>\n",
       "      <td>Warner Bros. Pictures</td>\n",
       "      <td>Dune | Official Main Trailer</td>\n",
       "      <td>IT’S TIME. #DuneMovie coming October 22.\\n\\n--...</td>\n",
       "      <td>processed</td>\n",
       "      <td>public</td>\n",
       "      <td>youtube</td>\n",
       "      <td>True</td>\n",
       "      <td>False</td>\n",
       "      <td>False</td>\n",
       "      <td>3725450</td>\n",
       "      <td>145277</td>\n",
       "      <td>2302</td>\n",
       "      <td>&lt;iframe width=\"480\" height=\"270\" src=\"//www.yo...</td>\n",
       "      <td>AU</td>\n",
       "    </tr>\n",
       "    <tr>\n",
       "      <th>4</th>\n",
       "      <td>2021-07-22T17:44:43Z</td>\n",
       "      <td>Battlefield 2042 | Battlefield Portal Official...</td>\n",
       "      <td>Play Battlefield™ 2042 starting October 22, 20...</td>\n",
       "      <td>https://i.ytimg.com/vi/q4qWMcQfOCc/default.jpg</td>\n",
       "      <td>https://i.ytimg.com/vi/q4qWMcQfOCc/mqdefault.jpg</td>\n",
       "      <td>Battlefield</td>\n",
       "      <td>Battlefield 2042 | Battlefield Portal Official...</td>\n",
       "      <td>Play Battlefield™ 2042 starting October 22, 20...</td>\n",
       "      <td>processed</td>\n",
       "      <td>public</td>\n",
       "      <td>youtube</td>\n",
       "      <td>True</td>\n",
       "      <td>False</td>\n",
       "      <td>False</td>\n",
       "      <td>1443476</td>\n",
       "      <td>154428</td>\n",
       "      <td>1905</td>\n",
       "      <td>&lt;iframe width=\"480\" height=\"270\" src=\"//www.yo...</td>\n",
       "      <td>AU</td>\n",
       "    </tr>\n",
       "    <tr>\n",
       "      <th>5</th>\n",
       "      <td>2021-07-21T05:30:14Z</td>\n",
       "      <td>2nd ODI Highlights | Sri Lanka vs India 2021</td>\n",
       "      <td>2nd ODI Highlights | Sri Lanka vs India 2021\\n...</td>\n",
       "      <td>https://i.ytimg.com/vi/8J7BoMdU-qw/default.jpg</td>\n",
       "      <td>https://i.ytimg.com/vi/8J7BoMdU-qw/mqdefault.jpg</td>\n",
       "      <td>Sri Lanka Cricket</td>\n",
       "      <td>2nd ODI Highlights | Sri Lanka vs India 2021</td>\n",
       "      <td>2nd ODI Highlights | Sri Lanka vs India 2021\\n...</td>\n",
       "      <td>processed</td>\n",
       "      <td>public</td>\n",
       "      <td>youtube</td>\n",
       "      <td>True</td>\n",
       "      <td>True</td>\n",
       "      <td>False</td>\n",
       "      <td>12056482</td>\n",
       "      <td>296859</td>\n",
       "      <td>9993</td>\n",
       "      <td>&lt;iframe width=\"480\" height=\"270\" src=\"//www.yo...</td>\n",
       "      <td>AU</td>\n",
       "    </tr>\n",
       "  </tbody>\n",
       "</table>\n",
       "</div>"
      ],
      "text/plain": [
       "           Publish-Time                                              Title  \\\n",
       "1  2021-07-21T18:00:06Z     I FILLED MY ISLAND HOUSE WITH PACKING PEANUTS!   \n",
       "2  2021-07-21T21:41:14Z  Best Sand Art Wins $5,000 Challenge! | ZHC Crafts   \n",
       "3  2021-07-22T13:00:04Z                       Dune | Official Main Trailer   \n",
       "4  2021-07-22T17:44:43Z  Battlefield 2042 | Battlefield Portal Official...   \n",
       "5  2021-07-21T05:30:14Z       2nd ODI Highlights | Sri Lanka vs India 2021   \n",
       "\n",
       "                                         Description  \\\n",
       "1  CHECK OUT CHASECRAFT on iOS :: https://apps.ap...   \n",
       "2  I can't believe we made art out of sand\\nSubsc...   \n",
       "3  IT’S TIME. #DuneMovie coming October 22.\\n\\n--...   \n",
       "4  Play Battlefield™ 2042 starting October 22, 20...   \n",
       "5  2nd ODI Highlights | Sri Lanka vs India 2021\\n...   \n",
       "\n",
       "                                        Video-URL  \\\n",
       "1  https://i.ytimg.com/vi/Y3sj_v62dpc/default.jpg   \n",
       "2  https://i.ytimg.com/vi/aVxHSHzm4kE/default.jpg   \n",
       "3  https://i.ytimg.com/vi/8g18jFHCLXk/default.jpg   \n",
       "4  https://i.ytimg.com/vi/q4qWMcQfOCc/default.jpg   \n",
       "5  https://i.ytimg.com/vi/8J7BoMdU-qw/default.jpg   \n",
       "\n",
       "                                          Thumbnail           Channel-Name  \\\n",
       "1  https://i.ytimg.com/vi/Y3sj_v62dpc/mqdefault.jpg            Unspeakable   \n",
       "2  https://i.ytimg.com/vi/aVxHSHzm4kE/mqdefault.jpg             ZHC Crafts   \n",
       "3  https://i.ytimg.com/vi/8g18jFHCLXk/mqdefault.jpg  Warner Bros. Pictures   \n",
       "4  https://i.ytimg.com/vi/q4qWMcQfOCc/mqdefault.jpg            Battlefield   \n",
       "5  https://i.ytimg.com/vi/8J7BoMdU-qw/mqdefault.jpg      Sri Lanka Cricket   \n",
       "\n",
       "                                     Localized-Title  \\\n",
       "1     I FILLED MY ISLAND HOUSE WITH PACKING PEANUTS!   \n",
       "2  Best Sand Art Wins $5,000 Challenge! | ZHC Crafts   \n",
       "3                       Dune | Official Main Trailer   \n",
       "4  Battlefield 2042 | Battlefield Portal Official...   \n",
       "5       2nd ODI Highlights | Sri Lanka vs India 2021   \n",
       "\n",
       "                               Localized-Description Upload-Status Privacy  \\\n",
       "1  CHECK OUT CHASECRAFT on iOS :: https://apps.ap...     processed  public   \n",
       "2  I can't believe we made art out of sand\\nSubsc...     processed  public   \n",
       "3  IT’S TIME. #DuneMovie coming October 22.\\n\\n--...     processed  public   \n",
       "4  Play Battlefield™ 2042 starting October 22, 20...     processed  public   \n",
       "5  2nd ODI Highlights | Sri Lanka vs India 2021\\n...     processed  public   \n",
       "\n",
       "   License Embeddable-Status Public-Stats Made-For-Kids View-Count   Likes  \\\n",
       "1  youtube              True        False         False    3945994  101089   \n",
       "2  youtube              True         True         False    2204582   89100   \n",
       "3  youtube              True        False         False    3725450  145277   \n",
       "4  youtube              True        False         False    1443476  154428   \n",
       "5  youtube              True         True         False   12056482  296859   \n",
       "\n",
       "  Dislikes                                         Embed-HTML Country  \n",
       "1     3084  <iframe width=\"480\" height=\"270\" src=\"//www.yo...      AU  \n",
       "2     1375  <iframe width=\"480\" height=\"270\" src=\"//www.yo...      AU  \n",
       "3     2302  <iframe width=\"480\" height=\"270\" src=\"//www.yo...      AU  \n",
       "4     1905  <iframe width=\"480\" height=\"270\" src=\"//www.yo...      AU  \n",
       "5     9993  <iframe width=\"480\" height=\"270\" src=\"//www.yo...      AU  "
      ]
     },
     "execution_count": 3,
     "metadata": {},
     "output_type": "execute_result"
    }
   ],
   "source": [
    "data.head()"
   ]
  },
  {
   "cell_type": "code",
   "execution_count": 4,
   "id": "df59b582",
   "metadata": {},
   "outputs": [
    {
     "data": {
      "text/html": [
       "<div>\n",
       "<style scoped>\n",
       "    .dataframe tbody tr th:only-of-type {\n",
       "        vertical-align: middle;\n",
       "    }\n",
       "\n",
       "    .dataframe tbody tr th {\n",
       "        vertical-align: top;\n",
       "    }\n",
       "\n",
       "    .dataframe thead th {\n",
       "        text-align: right;\n",
       "    }\n",
       "</style>\n",
       "<table border=\"1\" class=\"dataframe\">\n",
       "  <thead>\n",
       "    <tr style=\"text-align: right;\">\n",
       "      <th></th>\n",
       "      <th>Title</th>\n",
       "      <th>Description</th>\n",
       "      <th>Channel-Name</th>\n",
       "      <th>View-Count</th>\n",
       "      <th>Likes</th>\n",
       "      <th>Dislikes</th>\n",
       "      <th>Country</th>\n",
       "    </tr>\n",
       "  </thead>\n",
       "  <tbody>\n",
       "    <tr>\n",
       "      <th>1</th>\n",
       "      <td>I FILLED MY ISLAND HOUSE WITH PACKING PEANUTS!</td>\n",
       "      <td>CHECK OUT CHASECRAFT on iOS :: https://apps.ap...</td>\n",
       "      <td>Unspeakable</td>\n",
       "      <td>3945994</td>\n",
       "      <td>101089</td>\n",
       "      <td>3084</td>\n",
       "      <td>AU</td>\n",
       "    </tr>\n",
       "    <tr>\n",
       "      <th>2</th>\n",
       "      <td>Best Sand Art Wins $5,000 Challenge! | ZHC Crafts</td>\n",
       "      <td>I can't believe we made art out of sand\\nSubsc...</td>\n",
       "      <td>ZHC Crafts</td>\n",
       "      <td>2204582</td>\n",
       "      <td>89100</td>\n",
       "      <td>1375</td>\n",
       "      <td>AU</td>\n",
       "    </tr>\n",
       "    <tr>\n",
       "      <th>3</th>\n",
       "      <td>Dune | Official Main Trailer</td>\n",
       "      <td>IT’S TIME. #DuneMovie coming October 22.\\n\\n--...</td>\n",
       "      <td>Warner Bros. Pictures</td>\n",
       "      <td>3725450</td>\n",
       "      <td>145277</td>\n",
       "      <td>2302</td>\n",
       "      <td>AU</td>\n",
       "    </tr>\n",
       "    <tr>\n",
       "      <th>4</th>\n",
       "      <td>Battlefield 2042 | Battlefield Portal Official...</td>\n",
       "      <td>Play Battlefield™ 2042 starting October 22, 20...</td>\n",
       "      <td>Battlefield</td>\n",
       "      <td>1443476</td>\n",
       "      <td>154428</td>\n",
       "      <td>1905</td>\n",
       "      <td>AU</td>\n",
       "    </tr>\n",
       "    <tr>\n",
       "      <th>5</th>\n",
       "      <td>2nd ODI Highlights | Sri Lanka vs India 2021</td>\n",
       "      <td>2nd ODI Highlights | Sri Lanka vs India 2021\\n...</td>\n",
       "      <td>Sri Lanka Cricket</td>\n",
       "      <td>12056482</td>\n",
       "      <td>296859</td>\n",
       "      <td>9993</td>\n",
       "      <td>AU</td>\n",
       "    </tr>\n",
       "  </tbody>\n",
       "</table>\n",
       "</div>"
      ],
      "text/plain": [
       "                                               Title  \\\n",
       "1     I FILLED MY ISLAND HOUSE WITH PACKING PEANUTS!   \n",
       "2  Best Sand Art Wins $5,000 Challenge! | ZHC Crafts   \n",
       "3                       Dune | Official Main Trailer   \n",
       "4  Battlefield 2042 | Battlefield Portal Official...   \n",
       "5       2nd ODI Highlights | Sri Lanka vs India 2021   \n",
       "\n",
       "                                         Description           Channel-Name  \\\n",
       "1  CHECK OUT CHASECRAFT on iOS :: https://apps.ap...            Unspeakable   \n",
       "2  I can't believe we made art out of sand\\nSubsc...             ZHC Crafts   \n",
       "3  IT’S TIME. #DuneMovie coming October 22.\\n\\n--...  Warner Bros. Pictures   \n",
       "4  Play Battlefield™ 2042 starting October 22, 20...            Battlefield   \n",
       "5  2nd ODI Highlights | Sri Lanka vs India 2021\\n...      Sri Lanka Cricket   \n",
       "\n",
       "  View-Count   Likes Dislikes Country  \n",
       "1    3945994  101089     3084      AU  \n",
       "2    2204582   89100     1375      AU  \n",
       "3    3725450  145277     2302      AU  \n",
       "4    1443476  154428     1905      AU  \n",
       "5   12056482  296859     9993      AU  "
      ]
     },
     "execution_count": 4,
     "metadata": {},
     "output_type": "execute_result"
    }
   ],
   "source": [
    "data = data.drop(['Publish-Time','Video-URL','Thumbnail','Localized-Title','Localized-Description',\n",
    "                'Upload-Status','Privacy','License','Embeddable-Status',\n",
    "                'Public-Stats','Made-For-Kids','Embed-HTML'] , axis=1)\n",
    "data.head()"
   ]
  },
  {
   "cell_type": "markdown",
   "id": "5e0d1536",
   "metadata": {},
   "source": [
    "## Multinomial Naive Bayes"
   ]
  },
  {
   "cell_type": "code",
   "execution_count": 5,
   "id": "69598ee9",
   "metadata": {},
   "outputs": [],
   "source": [
    "from nltk.corpus import stopwords\n",
    "from sklearn.feature_extraction.text import TfidfVectorizer\n",
    "from sklearn.model_selection import train_test_split\n",
    "from sklearn import naive_bayes\n",
    "from sklearn.metrics import roc_auc_score,accuracy_score\n",
    "import pickle"
   ]
  },
  {
   "cell_type": "code",
   "execution_count": 6,
   "id": "9ed96735",
   "metadata": {},
   "outputs": [],
   "source": [
    "stop_words = set(stopwords.words('english'))\n",
    "vectorizer = TfidfVectorizer(use_idf = True, lowercase=True, strip_accents='ascii', stop_words=stop_words)"
   ]
  },
  {
   "cell_type": "code",
   "execution_count": 33,
   "id": "532dbcf9",
   "metadata": {},
   "outputs": [],
   "source": [
    "X_find = vectorizer.fit_transform(data['Title'])\n",
    "Y_find = data['View-Count']"
   ]
  },
  {
   "cell_type": "code",
   "execution_count": 34,
   "id": "b3d87223",
   "metadata": {},
   "outputs": [],
   "source": [
    "pickle.dump(vectorizer,open('transform.pkl','wb'))"
   ]
  },
  {
   "cell_type": "code",
   "execution_count": 35,
   "id": "da4cba43",
   "metadata": {},
   "outputs": [],
   "source": [
    "X_train, X_test, Y_train, Y_test = train_test_split(X_find, Y_find, test_size=0.1, random_state=42)"
   ]
  },
  {
   "cell_type": "code",
   "execution_count": 36,
   "id": "9f7c48d2",
   "metadata": {},
   "outputs": [
    {
     "data": {
      "text/plain": [
       "MultinomialNB()"
      ]
     },
     "execution_count": 36,
     "metadata": {},
     "output_type": "execute_result"
    }
   ],
   "source": [
    "clf = naive_bayes.MultinomialNB()\n",
    "clf.fit(X_train,Y_train)"
   ]
  },
  {
   "cell_type": "code",
   "execution_count": 37,
   "id": "37596580",
   "metadata": {},
   "outputs": [
    {
     "data": {
      "text/plain": [
       "21.818181818181817"
      ]
     },
     "execution_count": 37,
     "metadata": {},
     "output_type": "execute_result"
    }
   ],
   "source": [
    "accuracy_score(Y_test,clf.predict(X_test))*100"
   ]
  },
  {
   "cell_type": "code",
   "execution_count": 38,
   "id": "9d2d3cde",
   "metadata": {},
   "outputs": [],
   "source": [
    "filename = 'nlp_model.pkl'\n",
    "pickle.dump(clf,open(filename,'wb'))"
   ]
  },
  {
   "cell_type": "code",
   "execution_count": null,
   "id": "a279ac93",
   "metadata": {},
   "outputs": [],
   "source": []
  }
 ],
 "metadata": {
  "kernelspec": {
   "display_name": "Python 3",
   "language": "python",
   "name": "python3"
  },
  "language_info": {
   "codemirror_mode": {
    "name": "ipython",
    "version": 3
   },
   "file_extension": ".py",
   "mimetype": "text/x-python",
   "name": "python",
   "nbconvert_exporter": "python",
   "pygments_lexer": "ipython3",
   "version": "3.9.5"
  }
 },
 "nbformat": 4,
 "nbformat_minor": 5
}
