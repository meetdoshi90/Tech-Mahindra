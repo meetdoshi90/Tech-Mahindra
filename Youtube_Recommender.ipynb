{
 "cells": [
  {
   "cell_type": "markdown",
   "id": "3920500d",
   "metadata": {},
   "source": [
    "## Recommender System Notebook ##"
   ]
  },
  {
   "cell_type": "markdown",
   "id": "e48e7849",
   "metadata": {},
   "source": [
    "The two most common types of recommender systems are Content-Based and Collaborative Filtering(CF)\n",
    "> Collaborative filtering produces recommendations based on knowledge of user's attitude to items. Two sub categories:\n",
    "\n",
    "    > Memory based\n",
    "    > Model based\n",
    "\n",
    "> Content based systems focus on the attributes of the items."
   ]
  },
  {
   "cell_type": "code",
   "execution_count": 1,
   "id": "d8e2060f",
   "metadata": {},
   "outputs": [
    {
     "name": "stdout",
     "output_type": "stream",
     "text": [
      "Requirement already satisfied: nltk in c:\\users\\meetd\\anaconda3\\lib\\site-packages (3.6.1)\n",
      "Requirement already satisfied: click in c:\\users\\meetd\\anaconda3\\lib\\site-packages (from nltk) (7.1.2)\n",
      "Requirement already satisfied: tqdm in c:\\users\\meetd\\anaconda3\\lib\\site-packages (from nltk) (4.59.0)\n",
      "Requirement already satisfied: regex in c:\\users\\meetd\\anaconda3\\lib\\site-packages (from nltk) (2021.4.4)\n",
      "Requirement already satisfied: joblib in c:\\users\\meetd\\anaconda3\\lib\\site-packages (from nltk) (1.0.1)\n"
     ]
    },
    {
     "name": "stderr",
     "output_type": "stream",
     "text": [
      "[nltk_data] Downloading package punkt to\n",
      "[nltk_data]     C:\\Users\\meetd\\AppData\\Roaming\\nltk_data...\n",
      "[nltk_data]   Package punkt is already up-to-date!\n"
     ]
    }
   ],
   "source": [
    "import numpy as np\n",
    "import pandas as pd\n",
    "import matplotlib.pyplot as plt\n",
    "import tensorflow as tf\n",
    "import seaborn as sns\n",
    "%matplotlib inline\n",
    "import re\n",
    "!pip install nltk\n",
    "import nltk\n",
    "nltk.download('punkt')\n",
    "from nltk.stem import WordNetLemmatizer\n",
    "lemmatizer = WordNetLemmatizer()\n",
    "from nltk.stem import PorterStemmer\n",
    "ps = PorterStemmer()\n",
    "from nltk.corpus import stopwords\n",
    "from googletrans import Translator\n",
    "trans = Translator()"
   ]
  },
  {
   "cell_type": "code",
   "execution_count": 2,
   "id": "eda92152",
   "metadata": {},
   "outputs": [],
   "source": [
    "country_list = [\"AU\", \"BR\", \"CA\", \"FR\", \"DE\", \"IN\", \"IT\", \"MX\", \"RU\", \"GB\", \"US\"]\n",
    "data = pd.DataFrame()\n",
    "column_names = ['Publish-Time','Title','Description','Video-URL','Thumbnail',\n",
    "                'Channel-Name','Localized-Title','Localized-Description',\n",
    "                'Upload-Status','Privacy','License','Embeddable-Status',\n",
    "                'Public-Stats','Made-For-Kids','View-Count','Likes','Dislikes',\n",
    "                'Embed-HTML']\n",
    "for country in country_list:\n",
    "    temp_data = pd.read_csv('C:/Users/meetd/OneDrive/Desktop/Tech-Mahindra-ML/dataset/Cleaned_Data/'+country+'_data.csv',\n",
    "                      names=column_names)\n",
    "    temp_data = temp_data.drop(0)\n",
    "    temp_data['Country'] = country\n",
    "    data = data.append(temp_data)"
   ]
  },
  {
   "cell_type": "code",
   "execution_count": 3,
   "id": "2e1b46f3",
   "metadata": {},
   "outputs": [
    {
     "data": {
      "text/html": [
       "<div>\n",
       "<style scoped>\n",
       "    .dataframe tbody tr th:only-of-type {\n",
       "        vertical-align: middle;\n",
       "    }\n",
       "\n",
       "    .dataframe tbody tr th {\n",
       "        vertical-align: top;\n",
       "    }\n",
       "\n",
       "    .dataframe thead th {\n",
       "        text-align: right;\n",
       "    }\n",
       "</style>\n",
       "<table border=\"1\" class=\"dataframe\">\n",
       "  <thead>\n",
       "    <tr style=\"text-align: right;\">\n",
       "      <th></th>\n",
       "      <th>Publish-Time</th>\n",
       "      <th>Title</th>\n",
       "      <th>Description</th>\n",
       "      <th>Video-URL</th>\n",
       "      <th>Thumbnail</th>\n",
       "      <th>Channel-Name</th>\n",
       "      <th>Localized-Title</th>\n",
       "      <th>Localized-Description</th>\n",
       "      <th>Upload-Status</th>\n",
       "      <th>Privacy</th>\n",
       "      <th>License</th>\n",
       "      <th>Embeddable-Status</th>\n",
       "      <th>Public-Stats</th>\n",
       "      <th>Made-For-Kids</th>\n",
       "      <th>View-Count</th>\n",
       "      <th>Likes</th>\n",
       "      <th>Dislikes</th>\n",
       "      <th>Embed-HTML</th>\n",
       "      <th>Country</th>\n",
       "    </tr>\n",
       "  </thead>\n",
       "  <tbody>\n",
       "    <tr>\n",
       "      <th>1</th>\n",
       "      <td>2021-07-21T18:00:06Z</td>\n",
       "      <td>I FILLED MY ISLAND HOUSE WITH PACKING PEANUTS!</td>\n",
       "      <td>CHECK OUT CHASECRAFT on iOS :: https://apps.ap...</td>\n",
       "      <td>https://i.ytimg.com/vi/Y3sj_v62dpc/default.jpg</td>\n",
       "      <td>https://i.ytimg.com/vi/Y3sj_v62dpc/mqdefault.jpg</td>\n",
       "      <td>Unspeakable</td>\n",
       "      <td>I FILLED MY ISLAND HOUSE WITH PACKING PEANUTS!</td>\n",
       "      <td>CHECK OUT CHASECRAFT on iOS :: https://apps.ap...</td>\n",
       "      <td>processed</td>\n",
       "      <td>public</td>\n",
       "      <td>youtube</td>\n",
       "      <td>True</td>\n",
       "      <td>False</td>\n",
       "      <td>False</td>\n",
       "      <td>3945994</td>\n",
       "      <td>101089</td>\n",
       "      <td>3084</td>\n",
       "      <td>&lt;iframe width=\"480\" height=\"270\" src=\"//www.yo...</td>\n",
       "      <td>AU</td>\n",
       "    </tr>\n",
       "    <tr>\n",
       "      <th>2</th>\n",
       "      <td>2021-07-21T21:41:14Z</td>\n",
       "      <td>Best Sand Art Wins $5,000 Challenge! | ZHC Crafts</td>\n",
       "      <td>I can't believe we made art out of sand\\nSubsc...</td>\n",
       "      <td>https://i.ytimg.com/vi/aVxHSHzm4kE/default.jpg</td>\n",
       "      <td>https://i.ytimg.com/vi/aVxHSHzm4kE/mqdefault.jpg</td>\n",
       "      <td>ZHC Crafts</td>\n",
       "      <td>Best Sand Art Wins $5,000 Challenge! | ZHC Crafts</td>\n",
       "      <td>I can't believe we made art out of sand\\nSubsc...</td>\n",
       "      <td>processed</td>\n",
       "      <td>public</td>\n",
       "      <td>youtube</td>\n",
       "      <td>True</td>\n",
       "      <td>True</td>\n",
       "      <td>False</td>\n",
       "      <td>2204582</td>\n",
       "      <td>89100</td>\n",
       "      <td>1375</td>\n",
       "      <td>&lt;iframe width=\"480\" height=\"270\" src=\"//www.yo...</td>\n",
       "      <td>AU</td>\n",
       "    </tr>\n",
       "    <tr>\n",
       "      <th>3</th>\n",
       "      <td>2021-07-22T13:00:04Z</td>\n",
       "      <td>Dune | Official Main Trailer</td>\n",
       "      <td>IT’S TIME. #DuneMovie coming October 22.\\n\\n--...</td>\n",
       "      <td>https://i.ytimg.com/vi/8g18jFHCLXk/default.jpg</td>\n",
       "      <td>https://i.ytimg.com/vi/8g18jFHCLXk/mqdefault.jpg</td>\n",
       "      <td>Warner Bros. Pictures</td>\n",
       "      <td>Dune | Official Main Trailer</td>\n",
       "      <td>IT’S TIME. #DuneMovie coming October 22.\\n\\n--...</td>\n",
       "      <td>processed</td>\n",
       "      <td>public</td>\n",
       "      <td>youtube</td>\n",
       "      <td>True</td>\n",
       "      <td>False</td>\n",
       "      <td>False</td>\n",
       "      <td>3725450</td>\n",
       "      <td>145277</td>\n",
       "      <td>2302</td>\n",
       "      <td>&lt;iframe width=\"480\" height=\"270\" src=\"//www.yo...</td>\n",
       "      <td>AU</td>\n",
       "    </tr>\n",
       "    <tr>\n",
       "      <th>4</th>\n",
       "      <td>2021-07-22T17:44:43Z</td>\n",
       "      <td>Battlefield 2042 | Battlefield Portal Official...</td>\n",
       "      <td>Play Battlefield™ 2042 starting October 22, 20...</td>\n",
       "      <td>https://i.ytimg.com/vi/q4qWMcQfOCc/default.jpg</td>\n",
       "      <td>https://i.ytimg.com/vi/q4qWMcQfOCc/mqdefault.jpg</td>\n",
       "      <td>Battlefield</td>\n",
       "      <td>Battlefield 2042 | Battlefield Portal Official...</td>\n",
       "      <td>Play Battlefield™ 2042 starting October 22, 20...</td>\n",
       "      <td>processed</td>\n",
       "      <td>public</td>\n",
       "      <td>youtube</td>\n",
       "      <td>True</td>\n",
       "      <td>False</td>\n",
       "      <td>False</td>\n",
       "      <td>1443476</td>\n",
       "      <td>154428</td>\n",
       "      <td>1905</td>\n",
       "      <td>&lt;iframe width=\"480\" height=\"270\" src=\"//www.yo...</td>\n",
       "      <td>AU</td>\n",
       "    </tr>\n",
       "    <tr>\n",
       "      <th>5</th>\n",
       "      <td>2021-07-21T05:30:14Z</td>\n",
       "      <td>2nd ODI Highlights | Sri Lanka vs India 2021</td>\n",
       "      <td>2nd ODI Highlights | Sri Lanka vs India 2021\\n...</td>\n",
       "      <td>https://i.ytimg.com/vi/8J7BoMdU-qw/default.jpg</td>\n",
       "      <td>https://i.ytimg.com/vi/8J7BoMdU-qw/mqdefault.jpg</td>\n",
       "      <td>Sri Lanka Cricket</td>\n",
       "      <td>2nd ODI Highlights | Sri Lanka vs India 2021</td>\n",
       "      <td>2nd ODI Highlights | Sri Lanka vs India 2021\\n...</td>\n",
       "      <td>processed</td>\n",
       "      <td>public</td>\n",
       "      <td>youtube</td>\n",
       "      <td>True</td>\n",
       "      <td>True</td>\n",
       "      <td>False</td>\n",
       "      <td>12056482</td>\n",
       "      <td>296859</td>\n",
       "      <td>9993</td>\n",
       "      <td>&lt;iframe width=\"480\" height=\"270\" src=\"//www.yo...</td>\n",
       "      <td>AU</td>\n",
       "    </tr>\n",
       "  </tbody>\n",
       "</table>\n",
       "</div>"
      ],
      "text/plain": [
       "           Publish-Time                                              Title  \\\n",
       "1  2021-07-21T18:00:06Z     I FILLED MY ISLAND HOUSE WITH PACKING PEANUTS!   \n",
       "2  2021-07-21T21:41:14Z  Best Sand Art Wins $5,000 Challenge! | ZHC Crafts   \n",
       "3  2021-07-22T13:00:04Z                       Dune | Official Main Trailer   \n",
       "4  2021-07-22T17:44:43Z  Battlefield 2042 | Battlefield Portal Official...   \n",
       "5  2021-07-21T05:30:14Z       2nd ODI Highlights | Sri Lanka vs India 2021   \n",
       "\n",
       "                                         Description  \\\n",
       "1  CHECK OUT CHASECRAFT on iOS :: https://apps.ap...   \n",
       "2  I can't believe we made art out of sand\\nSubsc...   \n",
       "3  IT’S TIME. #DuneMovie coming October 22.\\n\\n--...   \n",
       "4  Play Battlefield™ 2042 starting October 22, 20...   \n",
       "5  2nd ODI Highlights | Sri Lanka vs India 2021\\n...   \n",
       "\n",
       "                                        Video-URL  \\\n",
       "1  https://i.ytimg.com/vi/Y3sj_v62dpc/default.jpg   \n",
       "2  https://i.ytimg.com/vi/aVxHSHzm4kE/default.jpg   \n",
       "3  https://i.ytimg.com/vi/8g18jFHCLXk/default.jpg   \n",
       "4  https://i.ytimg.com/vi/q4qWMcQfOCc/default.jpg   \n",
       "5  https://i.ytimg.com/vi/8J7BoMdU-qw/default.jpg   \n",
       "\n",
       "                                          Thumbnail           Channel-Name  \\\n",
       "1  https://i.ytimg.com/vi/Y3sj_v62dpc/mqdefault.jpg            Unspeakable   \n",
       "2  https://i.ytimg.com/vi/aVxHSHzm4kE/mqdefault.jpg             ZHC Crafts   \n",
       "3  https://i.ytimg.com/vi/8g18jFHCLXk/mqdefault.jpg  Warner Bros. Pictures   \n",
       "4  https://i.ytimg.com/vi/q4qWMcQfOCc/mqdefault.jpg            Battlefield   \n",
       "5  https://i.ytimg.com/vi/8J7BoMdU-qw/mqdefault.jpg      Sri Lanka Cricket   \n",
       "\n",
       "                                     Localized-Title  \\\n",
       "1     I FILLED MY ISLAND HOUSE WITH PACKING PEANUTS!   \n",
       "2  Best Sand Art Wins $5,000 Challenge! | ZHC Crafts   \n",
       "3                       Dune | Official Main Trailer   \n",
       "4  Battlefield 2042 | Battlefield Portal Official...   \n",
       "5       2nd ODI Highlights | Sri Lanka vs India 2021   \n",
       "\n",
       "                               Localized-Description Upload-Status Privacy  \\\n",
       "1  CHECK OUT CHASECRAFT on iOS :: https://apps.ap...     processed  public   \n",
       "2  I can't believe we made art out of sand\\nSubsc...     processed  public   \n",
       "3  IT’S TIME. #DuneMovie coming October 22.\\n\\n--...     processed  public   \n",
       "4  Play Battlefield™ 2042 starting October 22, 20...     processed  public   \n",
       "5  2nd ODI Highlights | Sri Lanka vs India 2021\\n...     processed  public   \n",
       "\n",
       "   License Embeddable-Status Public-Stats Made-For-Kids View-Count   Likes  \\\n",
       "1  youtube              True        False         False    3945994  101089   \n",
       "2  youtube              True         True         False    2204582   89100   \n",
       "3  youtube              True        False         False    3725450  145277   \n",
       "4  youtube              True        False         False    1443476  154428   \n",
       "5  youtube              True         True         False   12056482  296859   \n",
       "\n",
       "  Dislikes                                         Embed-HTML Country  \n",
       "1     3084  <iframe width=\"480\" height=\"270\" src=\"//www.yo...      AU  \n",
       "2     1375  <iframe width=\"480\" height=\"270\" src=\"//www.yo...      AU  \n",
       "3     2302  <iframe width=\"480\" height=\"270\" src=\"//www.yo...      AU  \n",
       "4     1905  <iframe width=\"480\" height=\"270\" src=\"//www.yo...      AU  \n",
       "5     9993  <iframe width=\"480\" height=\"270\" src=\"//www.yo...      AU  "
      ]
     },
     "execution_count": 3,
     "metadata": {},
     "output_type": "execute_result"
    }
   ],
   "source": [
    "data.head()"
   ]
  },
  {
   "cell_type": "code",
   "execution_count": 4,
   "id": "df59b582",
   "metadata": {},
   "outputs": [
    {
     "data": {
      "text/html": [
       "<div>\n",
       "<style scoped>\n",
       "    .dataframe tbody tr th:only-of-type {\n",
       "        vertical-align: middle;\n",
       "    }\n",
       "\n",
       "    .dataframe tbody tr th {\n",
       "        vertical-align: top;\n",
       "    }\n",
       "\n",
       "    .dataframe thead th {\n",
       "        text-align: right;\n",
       "    }\n",
       "</style>\n",
       "<table border=\"1\" class=\"dataframe\">\n",
       "  <thead>\n",
       "    <tr style=\"text-align: right;\">\n",
       "      <th></th>\n",
       "      <th>Title</th>\n",
       "      <th>Description</th>\n",
       "      <th>Channel-Name</th>\n",
       "      <th>View-Count</th>\n",
       "      <th>Likes</th>\n",
       "      <th>Dislikes</th>\n",
       "      <th>Country</th>\n",
       "    </tr>\n",
       "  </thead>\n",
       "  <tbody>\n",
       "    <tr>\n",
       "      <th>1</th>\n",
       "      <td>I FILLED MY ISLAND HOUSE WITH PACKING PEANUTS!</td>\n",
       "      <td>CHECK OUT CHASECRAFT on iOS :: https://apps.ap...</td>\n",
       "      <td>Unspeakable</td>\n",
       "      <td>3945994</td>\n",
       "      <td>101089</td>\n",
       "      <td>3084</td>\n",
       "      <td>AU</td>\n",
       "    </tr>\n",
       "    <tr>\n",
       "      <th>2</th>\n",
       "      <td>Best Sand Art Wins $5,000 Challenge! | ZHC Crafts</td>\n",
       "      <td>I can't believe we made art out of sand\\nSubsc...</td>\n",
       "      <td>ZHC Crafts</td>\n",
       "      <td>2204582</td>\n",
       "      <td>89100</td>\n",
       "      <td>1375</td>\n",
       "      <td>AU</td>\n",
       "    </tr>\n",
       "    <tr>\n",
       "      <th>3</th>\n",
       "      <td>Dune | Official Main Trailer</td>\n",
       "      <td>IT’S TIME. #DuneMovie coming October 22.\\n\\n--...</td>\n",
       "      <td>Warner Bros. Pictures</td>\n",
       "      <td>3725450</td>\n",
       "      <td>145277</td>\n",
       "      <td>2302</td>\n",
       "      <td>AU</td>\n",
       "    </tr>\n",
       "    <tr>\n",
       "      <th>4</th>\n",
       "      <td>Battlefield 2042 | Battlefield Portal Official...</td>\n",
       "      <td>Play Battlefield™ 2042 starting October 22, 20...</td>\n",
       "      <td>Battlefield</td>\n",
       "      <td>1443476</td>\n",
       "      <td>154428</td>\n",
       "      <td>1905</td>\n",
       "      <td>AU</td>\n",
       "    </tr>\n",
       "    <tr>\n",
       "      <th>5</th>\n",
       "      <td>2nd ODI Highlights | Sri Lanka vs India 2021</td>\n",
       "      <td>2nd ODI Highlights | Sri Lanka vs India 2021\\n...</td>\n",
       "      <td>Sri Lanka Cricket</td>\n",
       "      <td>12056482</td>\n",
       "      <td>296859</td>\n",
       "      <td>9993</td>\n",
       "      <td>AU</td>\n",
       "    </tr>\n",
       "  </tbody>\n",
       "</table>\n",
       "</div>"
      ],
      "text/plain": [
       "                                               Title  \\\n",
       "1     I FILLED MY ISLAND HOUSE WITH PACKING PEANUTS!   \n",
       "2  Best Sand Art Wins $5,000 Challenge! | ZHC Crafts   \n",
       "3                       Dune | Official Main Trailer   \n",
       "4  Battlefield 2042 | Battlefield Portal Official...   \n",
       "5       2nd ODI Highlights | Sri Lanka vs India 2021   \n",
       "\n",
       "                                         Description           Channel-Name  \\\n",
       "1  CHECK OUT CHASECRAFT on iOS :: https://apps.ap...            Unspeakable   \n",
       "2  I can't believe we made art out of sand\\nSubsc...             ZHC Crafts   \n",
       "3  IT’S TIME. #DuneMovie coming October 22.\\n\\n--...  Warner Bros. Pictures   \n",
       "4  Play Battlefield™ 2042 starting October 22, 20...            Battlefield   \n",
       "5  2nd ODI Highlights | Sri Lanka vs India 2021\\n...      Sri Lanka Cricket   \n",
       "\n",
       "  View-Count   Likes Dislikes Country  \n",
       "1    3945994  101089     3084      AU  \n",
       "2    2204582   89100     1375      AU  \n",
       "3    3725450  145277     2302      AU  \n",
       "4    1443476  154428     1905      AU  \n",
       "5   12056482  296859     9993      AU  "
      ]
     },
     "execution_count": 4,
     "metadata": {},
     "output_type": "execute_result"
    }
   ],
   "source": [
    "data = data.drop(['Publish-Time','Video-URL','Thumbnail','Localized-Title','Localized-Description',\n",
    "                'Upload-Status','Privacy','License','Embeddable-Status',\n",
    "                'Public-Stats','Made-For-Kids','Embed-HTML'] , axis=1)\n",
    "data.head()"
   ]
  },
  {
   "cell_type": "code",
   "execution_count": 5,
   "id": "03a097fe",
   "metadata": {},
   "outputs": [],
   "source": [
    "data['Title'] = data.apply(lambda row: nltk.word_tokenize(row[\"Title\"]), axis=1)\n",
    "data['Description'] = data.apply(lambda row: nltk.word_tokenize(row[\"Description\"]), axis=1)"
   ]
  },
  {
   "cell_type": "code",
   "execution_count": 6,
   "id": "b1b54b3b",
   "metadata": {},
   "outputs": [
    {
     "data": {
      "text/html": [
       "<div>\n",
       "<style scoped>\n",
       "    .dataframe tbody tr th:only-of-type {\n",
       "        vertical-align: middle;\n",
       "    }\n",
       "\n",
       "    .dataframe tbody tr th {\n",
       "        vertical-align: top;\n",
       "    }\n",
       "\n",
       "    .dataframe thead th {\n",
       "        text-align: right;\n",
       "    }\n",
       "</style>\n",
       "<table border=\"1\" class=\"dataframe\">\n",
       "  <thead>\n",
       "    <tr style=\"text-align: right;\">\n",
       "      <th></th>\n",
       "      <th>Title</th>\n",
       "      <th>Description</th>\n",
       "      <th>Channel-Name</th>\n",
       "      <th>View-Count</th>\n",
       "      <th>Likes</th>\n",
       "      <th>Dislikes</th>\n",
       "      <th>Country</th>\n",
       "    </tr>\n",
       "  </thead>\n",
       "  <tbody>\n",
       "    <tr>\n",
       "      <th>1</th>\n",
       "      <td>[I, FILLED, MY, ISLAND, HOUSE, WITH, PACKING, ...</td>\n",
       "      <td>[CHECK, OUT, CHASECRAFT, on, iOS, :, :, https,...</td>\n",
       "      <td>Unspeakable</td>\n",
       "      <td>3945994</td>\n",
       "      <td>101089</td>\n",
       "      <td>3084</td>\n",
       "      <td>AU</td>\n",
       "    </tr>\n",
       "    <tr>\n",
       "      <th>2</th>\n",
       "      <td>[Best, Sand, Art, Wins, $, 5,000, Challenge, !...</td>\n",
       "      <td>[I, ca, n't, believe, we, made, art, out, of, ...</td>\n",
       "      <td>ZHC Crafts</td>\n",
       "      <td>2204582</td>\n",
       "      <td>89100</td>\n",
       "      <td>1375</td>\n",
       "      <td>AU</td>\n",
       "    </tr>\n",
       "    <tr>\n",
       "      <th>3</th>\n",
       "      <td>[Dune, |, Official, Main, Trailer]</td>\n",
       "      <td>[IT, ’, S, TIME, ., #, DuneMovie, coming, Octo...</td>\n",
       "      <td>Warner Bros. Pictures</td>\n",
       "      <td>3725450</td>\n",
       "      <td>145277</td>\n",
       "      <td>2302</td>\n",
       "      <td>AU</td>\n",
       "    </tr>\n",
       "    <tr>\n",
       "      <th>4</th>\n",
       "      <td>[Battlefield, 2042, |, Battlefield, Portal, Of...</td>\n",
       "      <td>[Play, Battlefield™, 2042, starting, October, ...</td>\n",
       "      <td>Battlefield</td>\n",
       "      <td>1443476</td>\n",
       "      <td>154428</td>\n",
       "      <td>1905</td>\n",
       "      <td>AU</td>\n",
       "    </tr>\n",
       "    <tr>\n",
       "      <th>5</th>\n",
       "      <td>[2nd, ODI, Highlights, |, Sri, Lanka, vs, Indi...</td>\n",
       "      <td>[2nd, ODI, Highlights, |, Sri, Lanka, vs, Indi...</td>\n",
       "      <td>Sri Lanka Cricket</td>\n",
       "      <td>12056482</td>\n",
       "      <td>296859</td>\n",
       "      <td>9993</td>\n",
       "      <td>AU</td>\n",
       "    </tr>\n",
       "  </tbody>\n",
       "</table>\n",
       "</div>"
      ],
      "text/plain": [
       "                                               Title  \\\n",
       "1  [I, FILLED, MY, ISLAND, HOUSE, WITH, PACKING, ...   \n",
       "2  [Best, Sand, Art, Wins, $, 5,000, Challenge, !...   \n",
       "3                 [Dune, |, Official, Main, Trailer]   \n",
       "4  [Battlefield, 2042, |, Battlefield, Portal, Of...   \n",
       "5  [2nd, ODI, Highlights, |, Sri, Lanka, vs, Indi...   \n",
       "\n",
       "                                         Description           Channel-Name  \\\n",
       "1  [CHECK, OUT, CHASECRAFT, on, iOS, :, :, https,...            Unspeakable   \n",
       "2  [I, ca, n't, believe, we, made, art, out, of, ...             ZHC Crafts   \n",
       "3  [IT, ’, S, TIME, ., #, DuneMovie, coming, Octo...  Warner Bros. Pictures   \n",
       "4  [Play, Battlefield™, 2042, starting, October, ...            Battlefield   \n",
       "5  [2nd, ODI, Highlights, |, Sri, Lanka, vs, Indi...      Sri Lanka Cricket   \n",
       "\n",
       "  View-Count   Likes Dislikes Country  \n",
       "1    3945994  101089     3084      AU  \n",
       "2    2204582   89100     1375      AU  \n",
       "3    3725450  145277     2302      AU  \n",
       "4    1443476  154428     1905      AU  \n",
       "5   12056482  296859     9993      AU  "
      ]
     },
     "execution_count": 6,
     "metadata": {},
     "output_type": "execute_result"
    }
   ],
   "source": [
    "data.head()"
   ]
  },
  {
   "cell_type": "code",
   "execution_count": 7,
   "id": "dadd6182",
   "metadata": {},
   "outputs": [],
   "source": [
    "title_word_2_count = {}\n",
    "description_word_2_count = {}\n",
    "pattern = r'[^a-z^A-Z]'\n",
    "stop_words = set(stopwords.words('english'))\n",
    "for dat in data['Title']:\n",
    "    for word in dat:\n",
    "        #word = trans.translate(word).text\n",
    "        word = re.sub(pattern,'',word)\n",
    "        word = ps.stem(word.lower())\n",
    "        if(len(word)>2 and word not in stop_words):\n",
    "            if word not in title_word_2_count.keys():\n",
    "                title_word_2_count[word] = 1\n",
    "            else:\n",
    "                title_word_2_count[word] += 1\n",
    "for dat in data['Description']:\n",
    "    for word in dat:\n",
    "        #word = trans.translate(word).text\n",
    "        word = re.sub(pattern,'',word)\n",
    "        word = ps.stem(word.lower())\n",
    "        if(len(word)>2 and word not in stop_words):\n",
    "            if word not in description_word_2_count.keys():\n",
    "                description_word_2_count[word] = 1\n",
    "            else:\n",
    "                description_word_2_count[word] += 1"
   ]
  },
  {
   "cell_type": "code",
   "execution_count": 8,
   "id": "4bc12a7c",
   "metadata": {},
   "outputs": [
    {
     "name": "stdout",
     "output_type": "stream",
     "text": [
      "Length of different title words =  1713 \n",
      " Length of different description words =  13251\n"
     ]
    }
   ],
   "source": [
    "print('Length of different title words = ',len(title_word_2_count), \"\\n\",'Length of different description words = ',len(description_word_2_count))"
   ]
  },
  {
   "cell_type": "code",
   "execution_count": 9,
   "id": "99cabc21",
   "metadata": {},
   "outputs": [
    {
     "data": {
      "image/png": "[encoded data removed]",
      "text/plain": [
       "<Figure size 432x288 with 1 Axes>"
      ]
     },
     "metadata": {
      "needs_background": "light"
     },
     "output_type": "display_data"
    }
   ],
   "source": [
    "x = []\n",
    "y = []\n",
    "for wor in title_word_2_count:\n",
    "    if title_word_2_count[wor] > 9:\n",
    "        x.append(wor)\n",
    "        y.append(title_word_2_count[wor])\n",
    "sns.barplot(x = 'Words',\n",
    "            y = 'Frequency',\n",
    "            data = pd.DataFrame(list(zip(x,y)), columns =['Words', 'Frequency']))\n",
    "plt.show()"
   ]
  },
  {
   "cell_type": "code",
   "execution_count": 10,
   "id": "7c2593d7",
   "metadata": {},
   "outputs": [
    {
     "data": {
      "text/html": [
       "<div>\n",
       "<style scoped>\n",
       "    .dataframe tbody tr th:only-of-type {\n",
       "        vertical-align: middle;\n",
       "    }\n",
       "\n",
       "    .dataframe tbody tr th {\n",
       "        vertical-align: top;\n",
       "    }\n",
       "\n",
       "    .dataframe thead th {\n",
       "        text-align: right;\n",
       "    }\n",
       "</style>\n",
       "<table border=\"1\" class=\"dataframe\">\n",
       "  <thead>\n",
       "    <tr style=\"text-align: right;\">\n",
       "      <th></th>\n",
       "      <th>Title</th>\n",
       "      <th>View-Count</th>\n",
       "      <th>Likes</th>\n",
       "      <th>Dislikes</th>\n",
       "      <th>Country</th>\n",
       "    </tr>\n",
       "  </thead>\n",
       "  <tbody>\n",
       "    <tr>\n",
       "      <th>1</th>\n",
       "      <td>fill</td>\n",
       "      <td>3945994</td>\n",
       "      <td>101089</td>\n",
       "      <td>3084</td>\n",
       "      <td>AU</td>\n",
       "    </tr>\n",
       "    <tr>\n",
       "      <th>3</th>\n",
       "      <td>island</td>\n",
       "      <td>3945994</td>\n",
       "      <td>101089</td>\n",
       "      <td>3084</td>\n",
       "      <td>AU</td>\n",
       "    </tr>\n",
       "    <tr>\n",
       "      <th>4</th>\n",
       "      <td>hous</td>\n",
       "      <td>3945994</td>\n",
       "      <td>101089</td>\n",
       "      <td>3084</td>\n",
       "      <td>AU</td>\n",
       "    </tr>\n",
       "    <tr>\n",
       "      <th>6</th>\n",
       "      <td>pack</td>\n",
       "      <td>3945994</td>\n",
       "      <td>101089</td>\n",
       "      <td>3084</td>\n",
       "      <td>AU</td>\n",
       "    </tr>\n",
       "    <tr>\n",
       "      <th>7</th>\n",
       "      <td>peanut</td>\n",
       "      <td>3945994</td>\n",
       "      <td>101089</td>\n",
       "      <td>3084</td>\n",
       "      <td>AU</td>\n",
       "    </tr>\n",
       "  </tbody>\n",
       "</table>\n",
       "</div>"
      ],
      "text/plain": [
       "    Title View-Count   Likes Dislikes Country\n",
       "1    fill    3945994  101089     3084      AU\n",
       "3  island    3945994  101089     3084      AU\n",
       "4    hous    3945994  101089     3084      AU\n",
       "6    pack    3945994  101089     3084      AU\n",
       "7  peanut    3945994  101089     3084      AU"
      ]
     },
     "execution_count": 10,
     "metadata": {},
     "output_type": "execute_result"
    }
   ],
   "source": [
    "title_exploded = data\n",
    "title_exploded = title_exploded.drop(['Description', 'Channel-Name'], axis=1)\n",
    "title_exploded = title_exploded.explode('Title',ignore_index=True)\n",
    "for row in title_exploded.index:\n",
    "    temp = title_exploded['Title'][row]\n",
    "    temp = re.sub(pattern,'',temp)\n",
    "    temp = ps.stem(temp.lower())\n",
    "    if(len(temp)>2 and temp not in stop_words):\n",
    "        title_exploded['Title'][row] = temp\n",
    "    else:\n",
    "        title_exploded['Title'][row] = None\n",
    "title_exploded.dropna(how ='any',inplace=True)\n",
    "title_exploded.head()"
   ]
  },
  {
   "cell_type": "code",
   "execution_count": 11,
   "id": "1c266e9b",
   "metadata": {},
   "outputs": [
    {
     "data": {
      "image/png": "[encoded data removed]",
      "text/plain": [
       "<Figure size 432x288 with 1 Axes>"
      ]
     },
     "metadata": {
      "needs_background": "light"
     },
     "output_type": "display_data"
    }
   ],
   "source": [
    "x = []\n",
    "y = []\n",
    "for wor in description_word_2_count:\n",
    "    if description_word_2_count[wor] > 100:\n",
    "        x.append(wor)\n",
    "        y.append(description_word_2_count[wor])\n",
    "sns.barplot(x = 'Words',\n",
    "            y = 'Frequency',\n",
    "            data = pd.DataFrame(list(zip(x,y)), columns =['Words', 'Frequency']))\n",
    "plt.show()"
   ]
  },
  {
   "cell_type": "code",
   "execution_count": 12,
   "id": "df33c37e",
   "metadata": {},
   "outputs": [
    {
     "data": {
      "text/html": [
       "<div>\n",
       "<style scoped>\n",
       "    .dataframe tbody tr th:only-of-type {\n",
       "        vertical-align: middle;\n",
       "    }\n",
       "\n",
       "    .dataframe tbody tr th {\n",
       "        vertical-align: top;\n",
       "    }\n",
       "\n",
       "    .dataframe thead th {\n",
       "        text-align: right;\n",
       "    }\n",
       "</style>\n",
       "<table border=\"1\" class=\"dataframe\">\n",
       "  <thead>\n",
       "    <tr style=\"text-align: right;\">\n",
       "      <th></th>\n",
       "      <th>Description</th>\n",
       "      <th>View-Count</th>\n",
       "      <th>Likes</th>\n",
       "      <th>Dislikes</th>\n",
       "      <th>Country</th>\n",
       "    </tr>\n",
       "  </thead>\n",
       "  <tbody>\n",
       "    <tr>\n",
       "      <th>0</th>\n",
       "      <td>check</td>\n",
       "      <td>3945994</td>\n",
       "      <td>101089</td>\n",
       "      <td>3084</td>\n",
       "      <td>AU</td>\n",
       "    </tr>\n",
       "    <tr>\n",
       "      <th>2</th>\n",
       "      <td>chasecraft</td>\n",
       "      <td>3945994</td>\n",
       "      <td>101089</td>\n",
       "      <td>3084</td>\n",
       "      <td>AU</td>\n",
       "    </tr>\n",
       "    <tr>\n",
       "      <th>7</th>\n",
       "      <td>http</td>\n",
       "      <td>3945994</td>\n",
       "      <td>101089</td>\n",
       "      <td>3084</td>\n",
       "      <td>AU</td>\n",
       "    </tr>\n",
       "    <tr>\n",
       "      <th>9</th>\n",
       "      <td>appsapplecomusappchasecraftepicrunninggameid</td>\n",
       "      <td>3945994</td>\n",
       "      <td>101089</td>\n",
       "      <td>3084</td>\n",
       "      <td>AU</td>\n",
       "    </tr>\n",
       "    <tr>\n",
       "      <th>11</th>\n",
       "      <td>android</td>\n",
       "      <td>3945994</td>\n",
       "      <td>101089</td>\n",
       "      <td>3084</td>\n",
       "      <td>AU</td>\n",
       "    </tr>\n",
       "  </tbody>\n",
       "</table>\n",
       "</div>"
      ],
      "text/plain": [
       "                                     Description View-Count   Likes Dislikes  \\\n",
       "0                                          check    3945994  101089     3084   \n",
       "2                                     chasecraft    3945994  101089     3084   \n",
       "7                                           http    3945994  101089     3084   \n",
       "9   appsapplecomusappchasecraftepicrunninggameid    3945994  101089     3084   \n",
       "11                                       android    3945994  101089     3084   \n",
       "\n",
       "   Country  \n",
       "0       AU  \n",
       "2       AU  \n",
       "7       AU  \n",
       "9       AU  \n",
       "11      AU  "
      ]
     },
     "execution_count": 12,
     "metadata": {},
     "output_type": "execute_result"
    }
   ],
   "source": [
    "desc_exploded = data\n",
    "desc_exploded = desc_exploded.drop(['Title', 'Channel-Name'], axis=1)\n",
    "desc_exploded = desc_exploded.explode('Description',ignore_index=True)\n",
    "for row in desc_exploded.index:\n",
    "    temp = desc_exploded['Description'][row]\n",
    "    temp = re.sub(pattern,'',temp)\n",
    "    temp = ps.stem(temp.lower())\n",
    "    if(len(temp)>2 and temp not in stop_words):\n",
    "        desc_exploded['Description'][row] = temp\n",
    "    else:\n",
    "        desc_exploded['Description'][row] = None\n",
    "desc_exploded.dropna(how ='any',inplace=True)\n",
    "desc_exploded.head()"
   ]
  },
  {
   "cell_type": "code",
   "execution_count": 13,
   "id": "7eabca1e",
   "metadata": {},
   "outputs": [
    {
     "name": "stdout",
     "output_type": "stream",
     "text": [
      "3145 46885\n"
     ]
    }
   ],
   "source": [
    "print(len(title_exploded),len(desc_exploded))"
   ]
  },
  {
   "cell_type": "markdown",
   "id": "a41416c6",
   "metadata": {},
   "source": [
    "## Collaborative Filtering - Memory based using Cosine Similarity"
   ]
  },
  {
   "attachments": {
    "image-2.png": {
     "image/png": "[encoded data removed]"
    }
   },
   "cell_type": "markdown",
   "id": "5731def6",
   "metadata": {},
   "source": [
    "### Item & User Collaborative Filtering ###\n",
    "![image-2.png](attachment:image-2.png)"
   ]
  },
  {
   "cell_type": "code",
   "execution_count": 14,
   "id": "e9da3ec9",
   "metadata": {},
   "outputs": [],
   "source": [
    "x = []\n",
    "y = []\n",
    "for wor in description_word_2_count:\n",
    "    if description_word_2_count[wor] > 10:\n",
    "        x.append(wor)\n",
    "        y.append(description_word_2_count[wor])\n",
    "train_test_description_data = pd.DataFrame(list(zip(x,y)), columns =['Words', 'Frequency'])"
   ]
  },
  {
   "cell_type": "code",
   "execution_count": 15,
   "id": "2314c2c7",
   "metadata": {},
   "outputs": [],
   "source": [
    "import sklearn\n",
    "from sklearn.model_selection import train_test_split\n",
    "train_data, test_data = train_test_split(title_exploded, test_size = 0.2)"
   ]
  },
  {
   "cell_type": "code",
   "execution_count": 16,
   "id": "a5b1a00c",
   "metadata": {},
   "outputs": [
    {
     "name": "stdout",
     "output_type": "stream",
     "text": [
      "11 1713\n"
     ]
    }
   ],
   "source": [
    "n_countries = title_exploded.Country.nunique()\n",
    "n_keywords = title_exploded.Title.nunique()\n",
    "print(n_countries, n_keywords)"
   ]
  },
  {
   "cell_type": "code",
   "execution_count": 17,
   "id": "1c463a2f",
   "metadata": {},
   "outputs": [
    {
     "name": "stdout",
     "output_type": "stream",
     "text": [
      "11\n",
      "1713\n"
     ]
    }
   ],
   "source": [
    "country_mapper = {}\n",
    "keyword_mapper = {}\n",
    "i = 0\n",
    "for country in country_list:\n",
    "    country_mapper[country] = i\n",
    "    i += 1\n",
    "print(i)\n",
    "i = 0\n",
    "for keyword in title_word_2_count:\n",
    "    keyword_mapper[keyword] = i\n",
    "    i += 1\n",
    "print(i)\n",
    "train_data_matrix = np.zeros((n_countries, n_keywords))\n",
    "for line in train_data.itertuples():\n",
    "    train_data_matrix[country_mapper[line[5]],keyword_mapper[line[1]]] = line[2]\n",
    "\n",
    "test_data_matrix = np.zeros((n_countries, n_keywords))\n",
    "for line in test_data.itertuples():\n",
    "    test_data_matrix[country_mapper[line[5]],keyword_mapper[line[1]]] = line[2]"
   ]
  },
  {
   "cell_type": "code",
   "execution_count": 18,
   "id": "306b30ed",
   "metadata": {},
   "outputs": [],
   "source": [
    "from sklearn.metrics.pairwise import pairwise_distances\n",
    "user_similarity = pairwise_distances(train_data_matrix, metric='cosine')\n",
    "item_similarity = pairwise_distances(train_data_matrix.T, metric='cosine')"
   ]
  },
  {
   "attachments": {
    "image-2.png": {
     "image/png": "[encoded data removed]"
    },
    "image.png": {
     "image/png": "[encoded data removed]"
    }
   },
   "cell_type": "markdown",
   "id": "0f23887b",
   "metadata": {},
   "source": [
    "![image-2.png](attachment:image-2.png)\n",
    "![image.png](attachment:image.png)"
   ]
  },
  {
   "cell_type": "code",
   "execution_count": 21,
   "id": "e9205e43",
   "metadata": {},
   "outputs": [
    {
     "name": "stdout",
     "output_type": "stream",
     "text": [
      "User similarity =  [[0.         0.99178411 0.97955605 0.99143439 0.98592642 0.87973632\n",
      "  0.98491616 0.95306771 0.98664042 0.82148755 0.88905427]\n",
      " [0.99178411 0.         0.98137388 0.98926779 0.99535606 0.99382607\n",
      "  0.83263219 0.86132715 0.97545905 0.97127185 0.85905733]\n",
      " [0.97955605 0.98137388 0.         0.97569443 0.35836227 0.99190679\n",
      "  0.9682253  0.96016835 0.98273056 0.58063853 0.8988672 ]\n",
      " [0.99143439 0.98926779 0.97569443 0.         0.95579715 0.96999396\n",
      "  0.72020238 0.7371458  1.         0.90664478 0.86055904]\n",
      " [0.98592642 0.99535606 0.35836227 0.95579715 0.         0.98894331\n",
      "  0.95637539 0.97045808 0.9377503  0.96898307 0.96908575]\n",
      " [0.87973632 0.99382607 0.99190679 0.96999396 0.98894331 0.\n",
      "  0.9642492  0.87998458 1.         0.8599368  0.97760269]\n",
      " [0.98491616 0.83263219 0.9682253  0.72020238 0.95637539 0.9642492\n",
      "  0.         0.71340853 0.93178761 0.89089817 0.81180194]\n",
      " [0.95306771 0.86132715 0.96016835 0.7371458  0.97045808 0.87998458\n",
      "  0.71340853 0.         0.90139232 0.8698942  0.66313612]\n",
      " [0.98664042 0.97545905 0.98273056 1.         0.9377503  1.\n",
      "  0.93178761 0.90139232 0.         0.9955298  0.92853201]\n",
      " [0.82148755 0.97127185 0.58063853 0.90664478 0.96898307 0.8599368\n",
      "  0.89089817 0.8698942  0.9955298  0.         0.86410023]\n",
      " [0.88905427 0.85905733 0.8988672  0.86055904 0.96908575 0.97760269\n",
      "  0.81180194 0.66313612 0.92853201 0.86410023 0.        ]]\n",
      "Item similarity =  [[0.         0.29289322 0.21632759 ... 0.5        0.5        1.        ]\n",
      " [0.29289322 0.         0.44585992 ... 0.29289322 0.29289322 1.        ]\n",
      " [0.21632759 0.44585992 0.         ... 0.60816379 0.60816379 1.        ]\n",
      " ...\n",
      " [0.5        0.29289322 0.60816379 ... 0.         0.         1.        ]\n",
      " [0.5        0.29289322 0.60816379 ... 0.         0.         1.        ]\n",
      " [1.         1.         1.         ... 1.         1.         0.        ]]\n"
     ]
    }
   ],
   "source": [
    "print(\"User similarity = \", user_similarity)\n",
    "print(\"Item similarity = \", item_similarity)"
   ]
  },
  {
   "cell_type": "code",
   "execution_count": 22,
   "id": "74ac1a3e",
   "metadata": {},
   "outputs": [],
   "source": [
    "def predict(views, similarity, type='user'):\n",
    "    if type == 'user':\n",
    "        mean_user_views = views.mean(axis=1)\n",
    "        views_diff = (views - mean_user_views[:, np.newaxis]) \n",
    "        pred = mean_user_views[:, np.newaxis]+similarity.dot(views_diff)/np.array([np.abs(similarity).sum(axis=1)]).T\n",
    "    elif type == 'item':\n",
    "        pred = views.dot(similarity) / np.array([np.abs(similarity).sum(axis=1)])     \n",
    "    return pred"
   ]
  },
  {
   "cell_type": "code",
   "execution_count": 23,
   "id": "3fc331ca",
   "metadata": {},
   "outputs": [],
   "source": [
    "item_prediction = predict(train_data_matrix, item_similarity, type='item')\n",
    "user_prediction = predict(train_data_matrix, user_similarity, type='user')"
   ]
  },
  {
   "cell_type": "code",
   "execution_count": 24,
   "id": "03c83fd8",
   "metadata": {},
   "outputs": [
    {
     "name": "stdout",
     "output_type": "stream",
     "text": [
      "User Prediction =  [[1348063.60159875 1005531.81848728 1929579.17765381 ...  286527.45667939\n",
      "   286527.45667939  226386.20194442]\n",
      " [1449050.27911746  629463.38868236 2106831.77036427 ...  -80739.59747777\n",
      "   -80739.59747777 -138926.97635568]\n",
      " [1184920.39612702  475441.64304664 1899977.02015451 ...  133006.42948923\n",
      "   133006.42948923   66693.15308644]\n",
      " ...\n",
      " [1397183.14296949  585795.57309554 2046110.8875491  ... -134902.88285113\n",
      "  -134902.88285113 -196566.44496015]\n",
      " [1053861.13814453  682519.40386619 1670098.8133624  ...   92815.48601672\n",
      "    92815.48601672   29445.84869725]\n",
      " [1122694.44475727  329516.44648984 1823861.97323208 ...  -77157.17115201\n",
      "   -77157.17115201  -77157.17115201]]\n",
      "Item Prediction =  [[201802.3357976  391402.35209312 244488.36269393 ... 394780.50762975\n",
      "  394780.50762975 391634.50759346]\n",
      " [ 71532.50937143  68107.42532831  76766.14675358 ...  67139.5578605\n",
      "   67139.5578605   66964.29380841]\n",
      " [118374.67930971 117567.48878377 160963.61735981 ... 227101.07487677\n",
      "  227101.07487677 246774.32768692]\n",
      " ...\n",
      " [ 11955.44440325  11340.36251631  13299.64249181 ...  11803.40686213\n",
      "   11803.40686213  12449.66764019]\n",
      " [ 87378.28697147 165116.43944178 114951.01281465 ... 200625.57432795\n",
      "  200625.57432795 209325.11682243]\n",
      " [ 52869.12331661  50837.59141724  73841.42986164 ...  52599.24277307\n",
      "   52599.24277307 124632.13785047]]\n"
     ]
    }
   ],
   "source": [
    "print(\"User Prediction = \", user_prediction)\n",
    "print(\"Item Prediction = \", item_prediction)"
   ]
  },
  {
   "attachments": {
    "image.png": {
     "image/png": "[encoded data removed]"
    }
   },
   "cell_type": "markdown",
   "id": "b3ae0317",
   "metadata": {},
   "source": [
    "![image.png](attachment:image.png)"
   ]
  },
  {
   "cell_type": "code",
   "execution_count": 25,
   "id": "fabc339f",
   "metadata": {},
   "outputs": [],
   "source": [
    "from sklearn.metrics import mean_squared_error\n",
    "from math import sqrt\n",
    "def rmse(prediction, ground_truth):\n",
    "    prediction = prediction[ground_truth.nonzero()].flatten() \n",
    "    ground_truth = ground_truth[ground_truth.nonzero()].flatten()\n",
    "    return sqrt(mean_squared_error(prediction, ground_truth))"
   ]
  },
  {
   "cell_type": "code",
   "execution_count": 26,
   "id": "588e27ba",
   "metadata": {},
   "outputs": [
    {
     "name": "stdout",
     "output_type": "stream",
     "text": [
      "User-based CF RMSE: 5963294.421020907\n",
      "Item-based CF RMSE: 6128987.667633673\n"
     ]
    }
   ],
   "source": [
    "print('User-based CF RMSE: ' + str(rmse(user_prediction, test_data_matrix)))\n",
    "print('Item-based CF RMSE: ' + str(rmse(item_prediction, test_data_matrix)))"
   ]
  },
  {
   "cell_type": "code",
   "execution_count": null,
   "id": "69598ee9",
   "metadata": {},
   "outputs": [],
   "source": []
  }
 ],
 "metadata": {
  "kernelspec": {
   "display_name": "Python 3",
   "language": "python",
   "name": "python3"
  },
  "language_info": {
   "codemirror_mode": {
    "name": "ipython",
    "version": 3
   },
   "file_extension": ".py",
   "mimetype": "text/x-python",
   "name": "python",
   "nbconvert_exporter": "python",
   "pygments_lexer": "ipython3",
   "version": "3.9.5"
  }
 },
 "nbformat": 4,
 "nbformat_minor": 5
}
